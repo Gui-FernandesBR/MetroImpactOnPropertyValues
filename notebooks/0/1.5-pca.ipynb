{
 "cells": [
  {
   "cell_type": "markdown",
   "metadata": {},
   "source": [
    "# Esqueça isso por enquanto!! Tenho pouquíssimas variáveis"
   ]
  },
  {
   "cell_type": "code",
   "execution_count": 12,
   "metadata": {},
   "outputs": [
    {
     "name": "stdout",
     "output_type": "stream",
     "text": [
      "The autoreload extension is already loaded. To reload it, use:\n",
      "  %reload_ext autoreload\n"
     ]
    }
   ],
   "source": [
    "%load_ext autoreload\n",
    "%autoreload 2"
   ]
  },
  {
   "cell_type": "code",
   "execution_count": 13,
   "metadata": {},
   "outputs": [],
   "source": [
    "import pandas as pd      \n"
   ]
  },
  {
   "cell_type": "code",
   "execution_count": 14,
   "metadata": {},
   "outputs": [
    {
     "data": {
      "text/html": [
       "<div>\n",
       "<style scoped>\n",
       "    .dataframe tbody tr th:only-of-type {\n",
       "        vertical-align: middle;\n",
       "    }\n",
       "\n",
       "    .dataframe tbody tr th {\n",
       "        vertical-align: top;\n",
       "    }\n",
       "\n",
       "    .dataframe thead th {\n",
       "        text-align: right;\n",
       "    }\n",
       "</style>\n",
       "<table border=\"1\" class=\"dataframe\">\n",
       "  <thead>\n",
       "    <tr style=\"text-align: right;\">\n",
       "      <th></th>\n",
       "      <th>Zona</th>\n",
       "      <th>Nome</th>\n",
       "      <th>População</th>\n",
       "      <th>Escolares</th>\n",
       "      <th>Empregos</th>\n",
       "      <th>Área (ha)</th>\n",
       "      <th>Per Capita</th>\n",
       "    </tr>\n",
       "  </thead>\n",
       "  <tbody>\n",
       "    <tr>\n",
       "      <th>0</th>\n",
       "      <td>1</td>\n",
       "      <td>Sé</td>\n",
       "      <td>0.017387</td>\n",
       "      <td>0.111954</td>\n",
       "      <td>0.711110</td>\n",
       "      <td>0.002028</td>\n",
       "      <td>0.215929</td>\n",
       "    </tr>\n",
       "    <tr>\n",
       "      <th>1</th>\n",
       "      <td>2</td>\n",
       "      <td>Parque Dom Pedro</td>\n",
       "      <td>0.030355</td>\n",
       "      <td>0.025218</td>\n",
       "      <td>0.513188</td>\n",
       "      <td>0.004037</td>\n",
       "      <td>0.239346</td>\n",
       "    </tr>\n",
       "    <tr>\n",
       "      <th>2</th>\n",
       "      <td>3</td>\n",
       "      <td>Praça João Mendes</td>\n",
       "      <td>0.091306</td>\n",
       "      <td>0.042199</td>\n",
       "      <td>0.183560</td>\n",
       "      <td>0.001696</td>\n",
       "      <td>0.304539</td>\n",
       "    </tr>\n",
       "    <tr>\n",
       "      <th>3</th>\n",
       "      <td>4</td>\n",
       "      <td>Ladeira da Memória</td>\n",
       "      <td>0.128399</td>\n",
       "      <td>0.019824</td>\n",
       "      <td>0.223213</td>\n",
       "      <td>0.002668</td>\n",
       "      <td>0.510301</td>\n",
       "    </tr>\n",
       "    <tr>\n",
       "      <th>4</th>\n",
       "      <td>5</td>\n",
       "      <td>República</td>\n",
       "      <td>0.079718</td>\n",
       "      <td>0.030382</td>\n",
       "      <td>0.885635</td>\n",
       "      <td>0.002662</td>\n",
       "      <td>0.428676</td>\n",
       "    </tr>\n",
       "  </tbody>\n",
       "</table>\n",
       "</div>"
      ],
      "text/plain": [
       "   Zona                 Nome  População  Escolares  Empregos  Área (ha)  \\\n",
       "0      1                  Sé   0.017387   0.111954  0.711110   0.002028   \n",
       "1      2    Parque Dom Pedro   0.030355   0.025218  0.513188   0.004037   \n",
       "2      3   Praça João Mendes   0.091306   0.042199  0.183560   0.001696   \n",
       "3      4  Ladeira da Memória   0.128399   0.019824  0.223213   0.002668   \n",
       "4      5           República   0.079718   0.030382  0.885635   0.002662   \n",
       "\n",
       "   Per Capita  \n",
       "0    0.215929  \n",
       "1    0.239346  \n",
       "2    0.304539  \n",
       "3    0.510301  \n",
       "4    0.428676  "
      ]
     },
     "execution_count": 14,
     "metadata": {},
     "output_type": "execute_result"
    }
   ],
   "source": [
    "# Ler o arquivo \"od_2017_norm.csv\"\n",
    "df = pd.read_csv('od_2017_norm.csv', sep=',')\n",
    "df.head()"
   ]
  },
  {
   "cell_type": "code",
   "execution_count": 15,
   "metadata": {},
   "outputs": [
    {
     "data": {
      "text/html": [
       "<div>\n",
       "<style scoped>\n",
       "    .dataframe tbody tr th:only-of-type {\n",
       "        vertical-align: middle;\n",
       "    }\n",
       "\n",
       "    .dataframe tbody tr th {\n",
       "        vertical-align: top;\n",
       "    }\n",
       "\n",
       "    .dataframe thead th {\n",
       "        text-align: right;\n",
       "    }\n",
       "</style>\n",
       "<table border=\"1\" class=\"dataframe\">\n",
       "  <thead>\n",
       "    <tr style=\"text-align: right;\">\n",
       "      <th></th>\n",
       "      <th>População</th>\n",
       "      <th>Escolares</th>\n",
       "      <th>Empregos</th>\n",
       "      <th>Área (ha)</th>\n",
       "      <th>Per Capita</th>\n",
       "    </tr>\n",
       "  </thead>\n",
       "  <tbody>\n",
       "    <tr>\n",
       "      <th>0</th>\n",
       "      <td>0.017387</td>\n",
       "      <td>0.111954</td>\n",
       "      <td>0.711110</td>\n",
       "      <td>0.002028</td>\n",
       "      <td>0.215929</td>\n",
       "    </tr>\n",
       "    <tr>\n",
       "      <th>1</th>\n",
       "      <td>0.030355</td>\n",
       "      <td>0.025218</td>\n",
       "      <td>0.513188</td>\n",
       "      <td>0.004037</td>\n",
       "      <td>0.239346</td>\n",
       "    </tr>\n",
       "    <tr>\n",
       "      <th>2</th>\n",
       "      <td>0.091306</td>\n",
       "      <td>0.042199</td>\n",
       "      <td>0.183560</td>\n",
       "      <td>0.001696</td>\n",
       "      <td>0.304539</td>\n",
       "    </tr>\n",
       "    <tr>\n",
       "      <th>3</th>\n",
       "      <td>0.128399</td>\n",
       "      <td>0.019824</td>\n",
       "      <td>0.223213</td>\n",
       "      <td>0.002668</td>\n",
       "      <td>0.510301</td>\n",
       "    </tr>\n",
       "    <tr>\n",
       "      <th>4</th>\n",
       "      <td>0.079718</td>\n",
       "      <td>0.030382</td>\n",
       "      <td>0.885635</td>\n",
       "      <td>0.002662</td>\n",
       "      <td>0.428676</td>\n",
       "    </tr>\n",
       "  </tbody>\n",
       "</table>\n",
       "</div>"
      ],
      "text/plain": [
       "   População  Escolares  Empregos  Área (ha)  Per Capita\n",
       "0   0.017387   0.111954  0.711110   0.002028    0.215929\n",
       "1   0.030355   0.025218  0.513188   0.004037    0.239346\n",
       "2   0.091306   0.042199  0.183560   0.001696    0.304539\n",
       "3   0.128399   0.019824  0.223213   0.002668    0.510301\n",
       "4   0.079718   0.030382  0.885635   0.002662    0.428676"
      ]
     },
     "execution_count": 15,
     "metadata": {},
     "output_type": "execute_result"
    }
   ],
   "source": [
    "# Remover colunas não numericas\n",
    "values_df = df.drop(columns=[\"Zona \", \"Nome\"])\n",
    "values_df.head()"
   ]
  },
  {
   "cell_type": "code",
   "execution_count": 16,
   "metadata": {},
   "outputs": [],
   "source": [
    "# Fazer uma análise de componentes principais para reduzir a dimensionalidade do dataset\n",
    "# e plotar um gráfico de dispersão com os dois primeiros componentes principais\n",
    "\n",
    "# Importar o módulo PCA do scikit-learn\n",
    "from sklearn.decomposition import PCA\n",
    "\n",
    "# Criar um objeto PCA com 2 componentes\n",
    "pca = PCA(n_components=2)\n",
    "\n",
    "\n"
   ]
  },
  {
   "cell_type": "code",
   "execution_count": 17,
   "metadata": {},
   "outputs": [],
   "source": [
    "# Aplicar o PCA no dataset\n",
    "# Criar um novo dataframe com os dois primeiros componentes principais\n",
    "df_pca = pd.DataFrame(pca.fit_transform(values_df), columns=['PC1', 'PC2'])\n",
    "\n"
   ]
  },
  {
   "cell_type": "code",
   "execution_count": 18,
   "metadata": {},
   "outputs": [
    {
     "data": {
      "text/plain": [
       "<Axes: xlabel='PC1', ylabel='PC2'>"
      ]
     },
     "execution_count": 18,
     "metadata": {},
     "output_type": "execute_result"
    },
    {
     "data": {
      "image/png": "[encoded data removed]",
      "text/plain": [
       "<Figure size 1000x1000 with 1 Axes>"
      ]
     },
     "metadata": {},
     "output_type": "display_data"
    }
   ],
   "source": [
    "# Plotar um gráfico de dispersão com os dois primeiros componentes principais\n",
    "df_pca.plot.scatter(x='PC1', y='PC2', figsize=(10, 10), s=1, alpha=0.1)"
   ]
  }
 ],
 "metadata": {
  "kernelspec": {
   "display_name": ".venv",
   "language": "python",
   "name": "python3"
  },
  "language_info": {
   "codemirror_mode": {
    "name": "ipython",
    "version": 3
   },
   "file_extension": ".py",
   "mimetype": "text/x-python",
   "name": "python",
   "nbconvert_exporter": "python",
   "pygments_lexer": "ipython3",
   "version": "3.10.9"
  }
 },
 "nbformat": 4,
 "nbformat_minor": 2
}
