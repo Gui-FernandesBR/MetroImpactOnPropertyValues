{
 "cells": [
  {
   "cell_type": "code",
   "execution_count": 2,
   "metadata": {},
   "outputs": [],
   "source": [
    "import pandas as pd\n",
    "from sklearn.cluster import KMeans\n",
    "import matplotlib.pyplot as plt\n",
    "import numpy as np"
   ]
  },
  {
   "cell_type": "code",
   "execution_count": 3,
   "metadata": {},
   "outputs": [
    {
     "data": {
      "text/html": [
       "<div>\n",
       "<style scoped>\n",
       "    .dataframe tbody tr th:only-of-type {\n",
       "        vertical-align: middle;\n",
       "    }\n",
       "\n",
       "    .dataframe tbody tr th {\n",
       "        vertical-align: top;\n",
       "    }\n",
       "\n",
       "    .dataframe thead th {\n",
       "        text-align: right;\n",
       "    }\n",
       "</style>\n",
       "<table border=\"1\" class=\"dataframe\">\n",
       "  <thead>\n",
       "    <tr style=\"text-align: right;\">\n",
       "      <th></th>\n",
       "      <th>Zona</th>\n",
       "      <th>Nome</th>\n",
       "      <th>População</th>\n",
       "      <th>Escolares</th>\n",
       "      <th>Empregos</th>\n",
       "      <th>Área (ha)</th>\n",
       "      <th>Per Capita</th>\n",
       "    </tr>\n",
       "  </thead>\n",
       "  <tbody>\n",
       "    <tr>\n",
       "      <th>0</th>\n",
       "      <td>1</td>\n",
       "      <td>Sé</td>\n",
       "      <td>0.0207</td>\n",
       "      <td>0.1120</td>\n",
       "      <td>0.7111</td>\n",
       "      <td>0.002746</td>\n",
       "      <td>0.2159</td>\n",
       "    </tr>\n",
       "    <tr>\n",
       "      <th>1</th>\n",
       "      <td>2</td>\n",
       "      <td>Parque Dom Pedro</td>\n",
       "      <td>0.0361</td>\n",
       "      <td>0.0252</td>\n",
       "      <td>0.5132</td>\n",
       "      <td>0.005465</td>\n",
       "      <td>0.2393</td>\n",
       "    </tr>\n",
       "    <tr>\n",
       "      <th>2</th>\n",
       "      <td>3</td>\n",
       "      <td>Praça João Mendes</td>\n",
       "      <td>0.1085</td>\n",
       "      <td>0.0422</td>\n",
       "      <td>0.1836</td>\n",
       "      <td>0.002296</td>\n",
       "      <td>0.3045</td>\n",
       "    </tr>\n",
       "    <tr>\n",
       "      <th>3</th>\n",
       "      <td>4</td>\n",
       "      <td>Ladeira da Memória</td>\n",
       "      <td>0.1526</td>\n",
       "      <td>0.0198</td>\n",
       "      <td>0.2232</td>\n",
       "      <td>0.003612</td>\n",
       "      <td>0.5103</td>\n",
       "    </tr>\n",
       "    <tr>\n",
       "      <th>4</th>\n",
       "      <td>5</td>\n",
       "      <td>República</td>\n",
       "      <td>0.0947</td>\n",
       "      <td>0.0304</td>\n",
       "      <td>0.8856</td>\n",
       "      <td>0.003604</td>\n",
       "      <td>0.4287</td>\n",
       "    </tr>\n",
       "  </tbody>\n",
       "</table>\n",
       "</div>"
      ],
      "text/plain": [
       "   Zona                 Nome  População  Escolares  Empregos  Área (ha)  \\\n",
       "0      1                  Sé     0.0207     0.1120    0.7111   0.002746   \n",
       "1      2    Parque Dom Pedro     0.0361     0.0252    0.5132   0.005465   \n",
       "2      3   Praça João Mendes     0.1085     0.0422    0.1836   0.002296   \n",
       "3      4  Ladeira da Memória     0.1526     0.0198    0.2232   0.003612   \n",
       "4      5           República     0.0947     0.0304    0.8856   0.003604   \n",
       "\n",
       "   Per Capita  \n",
       "0      0.2159  \n",
       "1      0.2393  \n",
       "2      0.3045  \n",
       "3      0.5103  \n",
       "4      0.4287  "
      ]
     },
     "execution_count": 3,
     "metadata": {},
     "output_type": "execute_result"
    }
   ],
   "source": [
    "# Ler o arquivo \"od_2017_norm.csv\"\n",
    "df = pd.read_csv('od_2017_norm.csv', sep=',')\n",
    "df.head()"
   ]
  },
  {
   "cell_type": "code",
   "execution_count": 4,
   "metadata": {},
   "outputs": [],
   "source": [
    "X = df[['População', 'Escolares', 'Empregos', 'Área (ha)', 'Per Capita']]\n"
   ]
  },
  {
   "cell_type": "code",
   "execution_count": 5,
   "metadata": {},
   "outputs": [
    {
     "data": {
      "text/html": [
       "<style>#sk-container-id-1 {color: black;}#sk-container-id-1 pre{padding: 0;}#sk-container-id-1 div.sk-toggleable {background-color: white;}#sk-container-id-1 label.sk-toggleable__label {cursor: pointer;display: block;width: 100%;margin-bottom: 0;padding: 0.3em;box-sizing: border-box;text-align: center;}#sk-container-id-1 label.sk-toggleable__label-arrow:before {content: \"▸\";float: left;margin-right: 0.25em;color: #696969;}#sk-container-id-1 label.sk-toggleable__label-arrow:hover:before {color: black;}#sk-container-id-1 div.sk-estimator:hover label.sk-toggleable__label-arrow:before {color: black;}#sk-container-id-1 div.sk-toggleable__content {max-height: 0;max-width: 0;overflow: hidden;text-align: left;background-color: #f0f8ff;}#sk-container-id-1 div.sk-toggleable__content pre {margin: 0.2em;color: black;border-radius: 0.25em;background-color: #f0f8ff;}#sk-container-id-1 input.sk-toggleable__control:checked~div.sk-toggleable__content {max-height: 200px;max-width: 100%;overflow: auto;}#sk-container-id-1 input.sk-toggleable__control:checked~label.sk-toggleable__label-arrow:before {content: \"▾\";}#sk-container-id-1 div.sk-estimator input.sk-toggleable__control:checked~label.sk-toggleable__label {background-color: #d4ebff;}#sk-container-id-1 div.sk-label input.sk-toggleable__control:checked~label.sk-toggleable__label {background-color: #d4ebff;}#sk-container-id-1 input.sk-hidden--visually {border: 0;clip: rect(1px 1px 1px 1px);clip: rect(1px, 1px, 1px, 1px);height: 1px;margin: -1px;overflow: hidden;padding: 0;position: absolute;width: 1px;}#sk-container-id-1 div.sk-estimator {font-family: monospace;background-color: #f0f8ff;border: 1px dotted black;border-radius: 0.25em;box-sizing: border-box;margin-bottom: 0.5em;}#sk-container-id-1 div.sk-estimator:hover {background-color: #d4ebff;}#sk-container-id-1 div.sk-parallel-item::after {content: \"\";width: 100%;border-bottom: 1px solid gray;flex-grow: 1;}#sk-container-id-1 div.sk-label:hover label.sk-toggleable__label {background-color: #d4ebff;}#sk-container-id-1 div.sk-serial::before {content: \"\";position: absolute;border-left: 1px solid gray;box-sizing: border-box;top: 0;bottom: 0;left: 50%;z-index: 0;}#sk-container-id-1 div.sk-serial {display: flex;flex-direction: column;align-items: center;background-color: white;padding-right: 0.2em;padding-left: 0.2em;position: relative;}#sk-container-id-1 div.sk-item {position: relative;z-index: 1;}#sk-container-id-1 div.sk-parallel {display: flex;align-items: stretch;justify-content: center;background-color: white;position: relative;}#sk-container-id-1 div.sk-item::before, #sk-container-id-1 div.sk-parallel-item::before {content: \"\";position: absolute;border-left: 1px solid gray;box-sizing: border-box;top: 0;bottom: 0;left: 50%;z-index: -1;}#sk-container-id-1 div.sk-parallel-item {display: flex;flex-direction: column;z-index: 1;position: relative;background-color: white;}#sk-container-id-1 div.sk-parallel-item:first-child::after {align-self: flex-end;width: 50%;}#sk-container-id-1 div.sk-parallel-item:last-child::after {align-self: flex-start;width: 50%;}#sk-container-id-1 div.sk-parallel-item:only-child::after {width: 0;}#sk-container-id-1 div.sk-dashed-wrapped {border: 1px dashed gray;margin: 0 0.4em 0.5em 0.4em;box-sizing: border-box;padding-bottom: 0.4em;background-color: white;}#sk-container-id-1 div.sk-label label {font-family: monospace;font-weight: bold;display: inline-block;line-height: 1.2em;}#sk-container-id-1 div.sk-label-container {text-align: center;}#sk-container-id-1 div.sk-container {/* jupyter's `normalize.less` sets `[hidden] { display: none; }` but bootstrap.min.css set `[hidden] { display: none !important; }` so we also need the `!important` here to be able to override the default hidden behavior on the sphinx rendered scikit-learn.org. See: https://github.com/scikit-learn/scikit-learn/issues/21755 */display: inline-block !important;position: relative;}#sk-container-id-1 div.sk-text-repr-fallback {display: none;}</style><div id=\"sk-container-id-1\" class=\"sk-top-container\"><div class=\"sk-text-repr-fallback\"><pre>KMeans(n_clusters=3, n_init=10)</pre><b>In a Jupyter environment, please rerun this cell to show the HTML representation or trust the notebook. <br />On GitHub, the HTML representation is unable to render, please try loading this page with nbviewer.org.</b></div><div class=\"sk-container\" hidden><div class=\"sk-item\"><div class=\"sk-estimator sk-toggleable\"><input class=\"sk-toggleable__control sk-hidden--visually\" id=\"sk-estimator-id-1\" type=\"checkbox\" checked><label for=\"sk-estimator-id-1\" class=\"sk-toggleable__label sk-toggleable__label-arrow\">KMeans</label><div class=\"sk-toggleable__content\"><pre>KMeans(n_clusters=3, n_init=10)</pre></div></div></div></div></div>"
      ],
      "text/plain": [
       "KMeans(n_clusters=3, n_init=10)"
      ]
     },
     "execution_count": 5,
     "metadata": {},
     "output_type": "execute_result"
    }
   ],
   "source": [
    "# Inicialize o modelo KMeans\n",
    "# O número de clusters (n_clusters) é um parâmetro crítico que você precisa definir\n",
    "kmeans = KMeans(n_clusters=3, n_init=10)  # Aqui, estamos escolhendo dividir os dados em 3 clusters\n",
    "\n",
    "# Ajuste o modelo aos seus dados\n",
    "kmeans.fit(X)\n"
   ]
  },
  {
   "cell_type": "code",
   "execution_count": 6,
   "metadata": {},
   "outputs": [],
   "source": [
    "# Obtenha os rótulos de cluster para cada instância de dados\n",
    "df['cluster'] = kmeans.labels_\n",
    "\n",
    "# Agora, 'df' terá uma coluna adicional chamada 'cluster' com a indicação do cluster ao qual cada registro pertence"
   ]
  },
  {
   "cell_type": "code",
   "execution_count": 7,
   "metadata": {},
   "outputs": [
    {
     "data": {
      "text/html": [
       "<div>\n",
       "<style scoped>\n",
       "    .dataframe tbody tr th:only-of-type {\n",
       "        vertical-align: middle;\n",
       "    }\n",
       "\n",
       "    .dataframe tbody tr th {\n",
       "        vertical-align: top;\n",
       "    }\n",
       "\n",
       "    .dataframe thead th {\n",
       "        text-align: right;\n",
       "    }\n",
       "</style>\n",
       "<table border=\"1\" class=\"dataframe\">\n",
       "  <thead>\n",
       "    <tr style=\"text-align: right;\">\n",
       "      <th></th>\n",
       "      <th>Zona</th>\n",
       "      <th>Nome</th>\n",
       "      <th>População</th>\n",
       "      <th>Escolares</th>\n",
       "      <th>Empregos</th>\n",
       "      <th>Área (ha)</th>\n",
       "      <th>Per Capita</th>\n",
       "      <th>cluster</th>\n",
       "    </tr>\n",
       "  </thead>\n",
       "  <tbody>\n",
       "    <tr>\n",
       "      <th>0</th>\n",
       "      <td>1</td>\n",
       "      <td>Sé</td>\n",
       "      <td>0.0207</td>\n",
       "      <td>0.1120</td>\n",
       "      <td>0.7111</td>\n",
       "      <td>0.002746</td>\n",
       "      <td>0.2159</td>\n",
       "      <td>2</td>\n",
       "    </tr>\n",
       "    <tr>\n",
       "      <th>1</th>\n",
       "      <td>2</td>\n",
       "      <td>Parque Dom Pedro</td>\n",
       "      <td>0.0361</td>\n",
       "      <td>0.0252</td>\n",
       "      <td>0.5132</td>\n",
       "      <td>0.005465</td>\n",
       "      <td>0.2393</td>\n",
       "      <td>2</td>\n",
       "    </tr>\n",
       "    <tr>\n",
       "      <th>2</th>\n",
       "      <td>3</td>\n",
       "      <td>Praça João Mendes</td>\n",
       "      <td>0.1085</td>\n",
       "      <td>0.0422</td>\n",
       "      <td>0.1836</td>\n",
       "      <td>0.002296</td>\n",
       "      <td>0.3045</td>\n",
       "      <td>2</td>\n",
       "    </tr>\n",
       "    <tr>\n",
       "      <th>3</th>\n",
       "      <td>4</td>\n",
       "      <td>Ladeira da Memória</td>\n",
       "      <td>0.1526</td>\n",
       "      <td>0.0198</td>\n",
       "      <td>0.2232</td>\n",
       "      <td>0.003612</td>\n",
       "      <td>0.5103</td>\n",
       "      <td>1</td>\n",
       "    </tr>\n",
       "    <tr>\n",
       "      <th>4</th>\n",
       "      <td>5</td>\n",
       "      <td>República</td>\n",
       "      <td>0.0947</td>\n",
       "      <td>0.0304</td>\n",
       "      <td>0.8856</td>\n",
       "      <td>0.003604</td>\n",
       "      <td>0.4287</td>\n",
       "      <td>1</td>\n",
       "    </tr>\n",
       "    <tr>\n",
       "      <th>...</th>\n",
       "      <td>...</td>\n",
       "      <td>...</td>\n",
       "      <td>...</td>\n",
       "      <td>...</td>\n",
       "      <td>...</td>\n",
       "      <td>...</td>\n",
       "      <td>...</td>\n",
       "      <td>...</td>\n",
       "    </tr>\n",
       "    <tr>\n",
       "      <th>338</th>\n",
       "      <td>339</td>\n",
       "      <td>Cidade Universitária</td>\n",
       "      <td>0.0000</td>\n",
       "      <td>0.9549</td>\n",
       "      <td>0.2661</td>\n",
       "      <td>0.028109</td>\n",
       "      <td>0.0000</td>\n",
       "      <td>0</td>\n",
       "    </tr>\n",
       "    <tr>\n",
       "      <th>339</th>\n",
       "      <td>340</td>\n",
       "      <td>Butantã</td>\n",
       "      <td>0.0490</td>\n",
       "      <td>0.0323</td>\n",
       "      <td>0.1346</td>\n",
       "      <td>0.009959</td>\n",
       "      <td>0.6644</td>\n",
       "      <td>1</td>\n",
       "    </tr>\n",
       "    <tr>\n",
       "      <th>340</th>\n",
       "      <td>341</td>\n",
       "      <td>Jardim Caxingui</td>\n",
       "      <td>0.0668</td>\n",
       "      <td>0.0655</td>\n",
       "      <td>0.0870</td>\n",
       "      <td>0.008659</td>\n",
       "      <td>0.4633</td>\n",
       "      <td>1</td>\n",
       "    </tr>\n",
       "    <tr>\n",
       "      <th>341</th>\n",
       "      <td>342</td>\n",
       "      <td>Jardim Bonfiglioli</td>\n",
       "      <td>0.2261</td>\n",
       "      <td>0.0932</td>\n",
       "      <td>0.1471</td>\n",
       "      <td>0.015386</td>\n",
       "      <td>0.3857</td>\n",
       "      <td>2</td>\n",
       "    </tr>\n",
       "    <tr>\n",
       "      <th>342</th>\n",
       "      <td>365</td>\n",
       "      <td>Várzea do Palácio</td>\n",
       "      <td>0.0298</td>\n",
       "      <td>0.0057</td>\n",
       "      <td>0.1628</td>\n",
       "      <td>0.031100</td>\n",
       "      <td>0.2509</td>\n",
       "      <td>2</td>\n",
       "    </tr>\n",
       "  </tbody>\n",
       "</table>\n",
       "<p>343 rows × 8 columns</p>\n",
       "</div>"
      ],
      "text/plain": [
       "     Zona                   Nome  População  Escolares  Empregos  Área (ha)  \\\n",
       "0        1                    Sé     0.0207     0.1120    0.7111   0.002746   \n",
       "1        2      Parque Dom Pedro     0.0361     0.0252    0.5132   0.005465   \n",
       "2        3     Praça João Mendes     0.1085     0.0422    0.1836   0.002296   \n",
       "3        4    Ladeira da Memória     0.1526     0.0198    0.2232   0.003612   \n",
       "4        5             República     0.0947     0.0304    0.8856   0.003604   \n",
       "..     ...                   ...        ...        ...       ...        ...   \n",
       "338    339  Cidade Universitária     0.0000     0.9549    0.2661   0.028109   \n",
       "339    340               Butantã     0.0490     0.0323    0.1346   0.009959   \n",
       "340    341       Jardim Caxingui     0.0668     0.0655    0.0870   0.008659   \n",
       "341    342    Jardim Bonfiglioli     0.2261     0.0932    0.1471   0.015386   \n",
       "342    365     Várzea do Palácio     0.0298     0.0057    0.1628   0.031100   \n",
       "\n",
       "     Per Capita  cluster  \n",
       "0        0.2159        2  \n",
       "1        0.2393        2  \n",
       "2        0.3045        2  \n",
       "3        0.5103        1  \n",
       "4        0.4287        1  \n",
       "..          ...      ...  \n",
       "338      0.0000        0  \n",
       "339      0.6644        1  \n",
       "340      0.4633        1  \n",
       "341      0.3857        2  \n",
       "342      0.2509        2  \n",
       "\n",
       "[343 rows x 8 columns]"
      ]
     },
     "execution_count": 7,
     "metadata": {},
     "output_type": "execute_result"
    }
   ],
   "source": [
    "df"
   ]
  },
  {
   "cell_type": "code",
   "execution_count": 8,
   "metadata": {},
   "outputs": [
    {
     "name": "stdout",
     "output_type": "stream",
     "text": [
      "Executando k = 2\n",
      "Executando k = 3\n",
      "Executando k = 4\n",
      "Executando k = 5\n",
      "Executando k = 6\n",
      "Executando k = 7\n",
      "Executando k = 8\n",
      "Executando k = 9\n",
      "Executando k = 10\n",
      "Executando k = 11\n",
      "Executando k = 12\n",
      "Executando k = 13\n",
      "Executando k = 14\n",
      "Executando k = 15\n",
      "Executando k = 16\n",
      "Executando k = 17\n",
      "Executando k = 18\n",
      "Executando k = 19\n",
      "Executando k = 20\n",
      "Executando k = 21\n",
      "Executando k = 22\n",
      "Executando k = 23\n",
      "Executando k = 24\n",
      "Executando k = 25\n",
      "Executando k = 26\n",
      "Executando k = 27\n",
      "Executando k = 28\n",
      "Executando k = 29\n",
      "Executando k = 30\n",
      "Executando k = 31\n",
      "Executando k = 32\n",
      "Executando k = 33\n",
      "Executando k = 34\n",
      "Executando k = 40\n",
      "Executando k = 46\n",
      "Executando k = 52\n",
      "Executando k = 58\n",
      "Executando k = 64\n",
      "Executando k = 70\n",
      "Executando k = 76\n",
      "Executando k = 82\n",
      "Executando k = 88\n",
      "Executando k = 94\n",
      "Executando k = 100\n",
      "Executando k = 106\n",
      "Executando k = 112\n",
      "Executando k = 118\n",
      "Executando k = 124\n",
      "Executando k = 130\n",
      "Executando k = 136\n",
      "Executando k = 142\n",
      "Executando k = 148\n",
      "Executando k = 154\n",
      "Executando k = 160\n",
      "Executando k = 166\n",
      "Executando k = 171\n",
      "Executando k = 205\n",
      "Executando k = 239\n",
      "Executando k = 273\n",
      "Executando k = 307\n",
      "Executando k = 341\n"
     ]
    }
   ],
   "source": [
    "# Determinando o valor de N (o número de observações)\n",
    "# N = df.shape[0]\n",
    "\n",
    "# Lista para armazenar os valores da soma dos quadrados dentro do cluster\n",
    "ssw = []\n",
    "\n",
    "# Garantindo que N é um inteiro, caso já não seja.\n",
    "N = int(df.shape[0])\n",
    "\n",
    "# Configurando os passos para cada zona de refinamento\n",
    "step_super_fine = 1  # Super refinada: incremento de 1 em 1\n",
    "step_fine = max(1, N // 50)  # Refinada média: para evitar divisão por zero e ter certeza que é pelo menos 1\n",
    "step_coarse = max(1, N // 10)  # Menos refinada: para evitar divisão por zero e ter certeza que é pelo menos 1\n",
    "\n",
    "# Definindo os limites de cada zona de refinamento\n",
    "limit_super_fine_to_fine = max(3, N // 10)  # Onde a zona super refinada se encerra e a refinada média começa\n",
    "limit_fine_to_coarse = N // 2  # Onde a zona refinada média se encerra e a menos refinada começa\n",
    "\n",
    "# Intervalo para a zona super refinada (de 2 até o limite, com passo super fino)\n",
    "k_values_super_fine = range(2, limit_super_fine_to_fine, step_super_fine)\n",
    "\n",
    "# Intervalo para a zona refinada média (do fim da super refinada até o limite para a menos refinada, com passo fino)\n",
    "k_values_fine = range(limit_super_fine_to_fine, limit_fine_to_coarse, step_fine)\n",
    "\n",
    "# Intervalo para a zona menos refinada (do fim da refinada média até N, com passo mais grosso)\n",
    "k_values_coarse = range(limit_fine_to_coarse, N, step_coarse)\n",
    "\n",
    "# Concatenando todos os intervalos para formar a lista completa de valores k\n",
    "k_values = list(k_values_super_fine) + list(k_values_fine) + list(k_values_coarse)\n",
    "\n",
    "for k in k_values:\n",
    "    # Executando k-means\n",
    "    print(f\"Executando k = {k}\")\n",
    "    kmeans = KMeans(n_clusters=k, n_init=10)\n",
    "    kmeans.fit(X)  # substitua 'df' pelo conjunto de características que você está usando para o agrupamento, se for diferente\n",
    "\n",
    "    # Armazenando a soma dos quadrados dentro do cluster\n",
    "    ssw.append(kmeans.inertia_)  # inertia_ é a soma das distâncias quadradas\n",
    "\n"
   ]
  },
  {
   "cell_type": "code",
   "execution_count": 9,
   "metadata": {},
   "outputs": [
    {
     "data": {
      "image/png": "[encoded data removed]",
      "text/plain": [
       "<Figure size 1000x600 with 1 Axes>"
      ]
     },
     "metadata": {},
     "output_type": "display_data"
    }
   ],
   "source": [
    "# Criando o gráfico\n",
    "plt.figure(figsize=(10, 6))\n",
    "plt.plot(k_values, ssw, '-o')\n",
    "plt.xlabel('Número de clusters, k')\n",
    "plt.ylabel('Soma dos quadrados dentro do cluster')\n",
    "plt.title('Método do Cotovelo mostrando o número ótimo de clusters')\n",
    "plt.ylim(ymin=0)\n",
    "plt.xlim(xmin=0)\n",
    "plt.show()"
   ]
  },
  {
   "cell_type": "code",
   "execution_count": 10,
   "metadata": {},
   "outputs": [
    {
     "name": "stdout",
     "output_type": "stream",
     "text": [
      "Parâmetros otimizados: a = 30.638533227122803 b = 0.14495228158326923 c = 1.3937751542530694\n"
     ]
    },
    {
     "data": {
      "text/plain": [
       "<Figure size 1000x600 with 0 Axes>"
      ]
     },
     "metadata": {},
     "output_type": "display_data"
    },
    {
     "data": {
      "image/png": "[encoded data removed]",
      "text/plain": [
       "<Figure size 640x480 with 1 Axes>"
      ]
     },
     "metadata": {},
     "output_type": "display_data"
    }
   ],
   "source": [
    "import numpy as np\n",
    "from scipy.optimize import curve_fit\n",
    "import matplotlib.pyplot as plt\n",
    "\n",
    "# Definindo a forma da função exponencial decrescente.\n",
    "def exp_decreasing(x, a, b, c):\n",
    "    return a * np.exp(-b * x) + c\n",
    "\n",
    "# Supondo que você tenha seus dados em listas Python, convertendo para arrays NumPy.\n",
    "x_data = np.array(k_values)\n",
    "y_data = np.array(ssw)\n",
    "\n",
    "# Assegurando que não há valores não positivos em y_data\n",
    "if (y_data <= 0).any():\n",
    "    print(\"Valores não positivos encontrados em y_data; por favor, corrija isso para uso com logaritmo.\")\n",
    "else:\n",
    "    # Ajustando a função aos dados. popt são os valores otimizados para os parâmetros da função (a, b e c)\n",
    "    popt, _ = curve_fit(exp_decreasing, x_data, y_data, p0=(1, 1e-6, 1))  # p0 é o palpite inicial para os valores dos parâmetros\n",
    "\n",
    "    # Imprimindo os parâmetros otimizados\n",
    "    print(\"Parâmetros otimizados: a =\", popt[0], \"b =\", popt[1], \"c =\", popt[2])\n",
    "\n",
    "    # create the figure \n",
    "    plt.figure(figsize=(10, 6))\n",
    "\n",
    "    # Usando os parâmetros otimizados para prever y com base em x\n",
    "    y_pred = exp_decreasing(x_data, *popt)\n",
    "\n",
    "    # Plotando os resultados\n",
    "    plt.figure()\n",
    "    plt.scatter(x_data, y_data, 20, 'black', label=\"Dados originais\")\n",
    "    plt.plot(x_data, y_data, 'b', label=\"Dados originais\", alpha=0.7)\n",
    "    \n",
    "    # plt.plot(x_data, y_pred, 'r-', label=\"Ajuste exponencial\")\n",
    "    plt.xlabel(\"Número de clusters, k\")\n",
    "    plt.ylabel(\"Soma dos quadrados dentro do cluster\")\n",
    "    plt.title(\"Determinação do número ótimo de clusters\")\n",
    "    plt.xlim((0, 100))\n",
    "    plt.ylim(ymin=0)\n",
    "    plt.grid(True, alpha=0.3)\n",
    "    # plt.legend()\n",
    "    plt.show()\n"
   ]
  },
  {
   "cell_type": "code",
   "execution_count": 12,
   "metadata": {},
   "outputs": [
    {
     "name": "stdout",
     "output_type": "stream",
     "text": [
      "O número ótimo de clusters sugerido pelo método Kneedle é: 34\n"
     ]
    }
   ],
   "source": [
    "from kneed import KneeLocator\n",
    "\n",
    "# Supondo que k_values e ssw_values sejam suas listas ou arrays de valores k e SSW, respectivamente.\n",
    "kneedle = KneeLocator(k_values, ssw, curve='convex', direction='decreasing')\n",
    "\n",
    "# O ponto do cotovelo identificado pelo método Kneedle é:\n",
    "knee_point = kneedle.knee\n",
    "\n",
    "print(f\"O número ótimo de clusters sugerido pelo método Kneedle é: {knee_point}\")\n"
   ]
  },
  {
   "cell_type": "code",
   "execution_count": 15,
   "metadata": {},
   "outputs": [
    {
     "ename": "ValueError",
     "evalue": "Não foi encontrado um ponto de inflexão.",
     "output_type": "error",
     "traceback": [
      "\u001b[0;31m---------------------------------------------------------------------------\u001b[0m",
      "\u001b[0;31mValueError\u001b[0m                                Traceback (most recent call last)",
      "\u001b[1;32m/home/gfalves/Documents/github/dash-iptumetro/passo0/2-k_means.ipynb Cell 11\u001b[0m line \u001b[0;36m1\n\u001b[1;32m     <a href='vscode-notebook-cell:/home/gfalves/Documents/github/dash-iptumetro/passo0/2-k_means.ipynb#X13sZmlsZQ%3D%3D?line=16'>17</a>\u001b[0m     inflexion_point_index \u001b[39m=\u001b[39m inflexion_point_index[\u001b[39m0\u001b[39m]\n\u001b[1;32m     <a href='vscode-notebook-cell:/home/gfalves/Documents/github/dash-iptumetro/passo0/2-k_means.ipynb#X13sZmlsZQ%3D%3D?line=17'>18</a>\u001b[0m \u001b[39melse\u001b[39;00m:\n\u001b[0;32m---> <a href='vscode-notebook-cell:/home/gfalves/Documents/github/dash-iptumetro/passo0/2-k_means.ipynb#X13sZmlsZQ%3D%3D?line=18'>19</a>\u001b[0m     \u001b[39mraise\u001b[39;00m \u001b[39mValueError\u001b[39;00m(\u001b[39m\"\u001b[39m\u001b[39mNão foi encontrado um ponto de inflexão.\u001b[39m\u001b[39m\"\u001b[39m)\n\u001b[1;32m     <a href='vscode-notebook-cell:/home/gfalves/Documents/github/dash-iptumetro/passo0/2-k_means.ipynb#X13sZmlsZQ%3D%3D?line=20'>21</a>\u001b[0m inflexion_point_x \u001b[39m=\u001b[39m x_data[inflexion_point_index]\n\u001b[1;32m     <a href='vscode-notebook-cell:/home/gfalves/Documents/github/dash-iptumetro/passo0/2-k_means.ipynb#X13sZmlsZQ%3D%3D?line=21'>22</a>\u001b[0m inflexion_point_y \u001b[39m=\u001b[39m y_pred[inflexion_point_index]\n",
      "\u001b[0;31mValueError\u001b[0m: Não foi encontrado um ponto de inflexão."
     ]
    }
   ],
   "source": [
    "import numpy as np \n",
    "\n",
    "# Supondo que x_data e y_pred são seus dados de x e y ajustados/previsões da curva\n",
    "# Primeira derivada\n",
    "first_derivative = np.gradient(y_pred, x_data)\n",
    "# Segunda derivada\n",
    "second_derivative = np.gradient(first_derivative, x_data)\n",
    "\n",
    "# Agora, procuramos onde a segunda derivada muda de sinal. \n",
    "# Como os dados podem ser ruidosos, não podemos garantir que será exatamente zero, então procuramos a mudança de sinal.\n",
    "\n",
    "inflexion_point_index = np.where(np.diff(np.sign(second_derivative)))[0]\n",
    "\n",
    "# Se houver múltiplos pontos de inflexão, você pode precisar selecionar o mais apropriado. \n",
    "# Aqui, estamos apenas pegando o primeiro ponto de inflexão.\n",
    "if len(inflexion_point_index) > 0:\n",
    "    inflexion_point_index = inflexion_point_index[0]\n",
    "else:\n",
    "    raise ValueError(\"Não foi encontrado um ponto de inflexão.\")\n",
    "\n",
    "inflexion_point_x = x_data[inflexion_point_index]\n",
    "inflexion_point_y = y_pred[inflexion_point_index]\n",
    "\n",
    "print(f\"Ponto de inflexão: x = {inflexion_point_x}, y = {inflexion_point_y}\")\n"
   ]
  },
  {
   "cell_type": "code",
   "execution_count": 16,
   "metadata": {},
   "outputs": [
    {
     "data": {
      "text/plain": [
       "array([-4.03630393e-01, -7.18609411e-02, -2.98946866e-02, -2.68322593e-01,\n",
       "       -2.28859608e-01, -2.15346704e-01,  5.63894690e-01, -1.63916900e-01,\n",
       "       -2.10178336e-01, -4.64365646e-01,  1.52013349e+00, -4.18719359e-01,\n",
       "       -2.28432424e-01,  7.52390181e-02, -6.12181103e-02,  6.30565748e-01,\n",
       "       -7.31269073e-01,  1.28819800e+00, -9.65299765e-02,  4.32024995e-02,\n",
       "        7.35336893e-02, -6.71239245e-01,  2.71880521e+00, -7.19975498e-01,\n",
       "        1.58279344e+00, -1.41313187e-02, -1.37859025e-01,  5.35364254e-02,\n",
       "        2.52010253e-01, -1.00044001e+00, -1.75076448e+03,  3.14100478e+00,\n",
       "       -1.55259987e-01,  1.08343435e-01, -2.86536755e-01,  1.78225798e-01,\n",
       "       -1.27675655e-01, -9.58263041e-02,  2.58618536e-01, -1.66511438e-01,\n",
       "       -9.00827712e-02, -4.39502177e-02,  7.89107826e-02, -2.43797355e-01,\n",
       "        1.71106122e-02,  4.31578422e-01, -2.77812369e-02, -1.08800965e-01,\n",
       "       -4.35142627e-01,  1.28580920e+00, -2.23384776e-01, -1.88014928e-01,\n",
       "        5.65620709e-01, -2.46491103e-01,  3.98893607e+00,  2.34653280e-01,\n",
       "        5.60455426e-02,  3.46371726e-01,  4.37381833e-01])"
      ]
     },
     "execution_count": 16,
     "metadata": {},
     "output_type": "execute_result"
    }
   ],
   "source": [
    "# Calcula a mudança na SSW de um k para o próximo\n",
    "# (você pode precisar garantir que não está dividindo por zero se ssw contiver zeros)\n",
    "deltas = np.diff(ssw) / ssw[:-1]  # mudança relativa\n",
    "\n",
    "# calcular a segunda derivada da curva\n",
    "deltas2 = np.diff(deltas) / deltas[:-1]\n",
    "deltas2"
   ]
  },
  {
   "cell_type": "code",
   "execution_count": 17,
   "metadata": {},
   "outputs": [
    {
     "data": {
      "image/png": "[encoded data removed]",
      "text/plain": [
       "<Figure size 1000x600 with 1 Axes>"
      ]
     },
     "metadata": {},
     "output_type": "display_data"
    }
   ],
   "source": [
    "\n",
    "# plotar deltas x k\n",
    "plt.figure(figsize=(10, 6))\n",
    "# plt.plot(k_values[1:], deltas, '-o')\n",
    "plt.plot(k_values[2:], deltas2, '-o')\n",
    "plt.xlabel('Número de clusters, k')\n",
    "plt.ylabel('Relativa mudança na SSW')\n",
    "plt.title('Método do Cotovelo mostrando o número ótimo de clusters')\n",
    "# plt.ylim(ymin=0)\n",
    "# plt.xlim(xmin=0)\n",
    "plt.show()"
   ]
  },
  {
   "cell_type": "code",
   "execution_count": 18,
   "metadata": {},
   "outputs": [
    {
     "data": {
      "text/plain": [
       "array([-4.03630393e-01, -7.18609411e-02, -2.98946866e-02, -2.68322593e-01,\n",
       "       -2.28859608e-01, -2.15346704e-01,  5.63894690e-01, -1.63916900e-01,\n",
       "       -2.10178336e-01, -4.64365646e-01,  1.52013349e+00, -4.18719359e-01,\n",
       "       -2.28432424e-01,  7.52390181e-02, -6.12181103e-02,  6.30565748e-01,\n",
       "       -7.31269073e-01,  1.28819800e+00, -9.65299765e-02,  4.32024995e-02,\n",
       "        7.35336893e-02, -6.71239245e-01,  2.71880521e+00, -7.19975498e-01,\n",
       "        1.58279344e+00, -1.41313187e-02, -1.37859025e-01,  5.35364254e-02,\n",
       "        2.52010253e-01, -1.00044001e+00, -1.75076448e+03,  3.14100478e+00,\n",
       "       -1.55259987e-01,  1.08343435e-01, -2.86536755e-01,  1.78225798e-01,\n",
       "       -1.27675655e-01, -9.58263041e-02,  2.58618536e-01, -1.66511438e-01,\n",
       "       -9.00827712e-02, -4.39502177e-02,  7.89107826e-02, -2.43797355e-01,\n",
       "        1.71106122e-02,  4.31578422e-01, -2.77812369e-02, -1.08800965e-01,\n",
       "       -4.35142627e-01,  1.28580920e+00, -2.23384776e-01, -1.88014928e-01,\n",
       "        5.65620709e-01, -2.46491103e-01,  3.98893607e+00,  2.34653280e-01,\n",
       "        5.60455426e-02,  3.46371726e-01,  4.37381833e-01])"
      ]
     },
     "execution_count": 18,
     "metadata": {},
     "output_type": "execute_result"
    }
   ],
   "source": [
    "deltas2"
   ]
  },
  {
   "cell_type": "code",
   "execution_count": 19,
   "metadata": {},
   "outputs": [
    {
     "name": "stdout",
     "output_type": "stream",
     "text": [
      "O número ótimo estimado de clusters é 307\n"
     ]
    }
   ],
   "source": [
    "threshold = 0.1  # por exemplo, 10% de mudança; ajuste conforme necessário\n",
    "elbow_k = np.where(deltas > threshold)[0]\n",
    "\n",
    "# Se não encontrarmos um cotovelo abaixo do limite, escolhemos o k com a menor mudança\n",
    "if len(elbow_k) == 0:\n",
    "    elbow_k = np.argmin(deltas)\n",
    "else:\n",
    "    elbow_k = elbow_k[0]\n",
    "\n",
    "optimal_k = k_values[elbow_k]\n",
    "\n",
    "print(f\"O número ótimo estimado de clusters é {optimal_k}\")"
   ]
  },
  {
   "cell_type": "markdown",
   "metadata": {},
   "source": [
    "# clusteriza finalmente"
   ]
  },
  {
   "cell_type": "code",
   "execution_count": 26,
   "metadata": {},
   "outputs": [
    {
     "data": {
      "text/html": [
       "<div>\n",
       "<style scoped>\n",
       "    .dataframe tbody tr th:only-of-type {\n",
       "        vertical-align: middle;\n",
       "    }\n",
       "\n",
       "    .dataframe tbody tr th {\n",
       "        vertical-align: top;\n",
       "    }\n",
       "\n",
       "    .dataframe thead th {\n",
       "        text-align: right;\n",
       "    }\n",
       "</style>\n",
       "<table border=\"1\" class=\"dataframe\">\n",
       "  <thead>\n",
       "    <tr style=\"text-align: right;\">\n",
       "      <th></th>\n",
       "      <th>Zona</th>\n",
       "      <th>Nome</th>\n",
       "      <th>População</th>\n",
       "      <th>Escolares</th>\n",
       "      <th>Empregos</th>\n",
       "      <th>Área (ha)</th>\n",
       "      <th>Per Capita</th>\n",
       "      <th>cluster</th>\n",
       "    </tr>\n",
       "  </thead>\n",
       "  <tbody>\n",
       "    <tr>\n",
       "      <th>0</th>\n",
       "      <td>1</td>\n",
       "      <td>Sé</td>\n",
       "      <td>0.0207</td>\n",
       "      <td>0.1120</td>\n",
       "      <td>0.7111</td>\n",
       "      <td>0.002746</td>\n",
       "      <td>0.2159</td>\n",
       "      <td>1</td>\n",
       "    </tr>\n",
       "    <tr>\n",
       "      <th>1</th>\n",
       "      <td>2</td>\n",
       "      <td>Parque Dom Pedro</td>\n",
       "      <td>0.0361</td>\n",
       "      <td>0.0252</td>\n",
       "      <td>0.5132</td>\n",
       "      <td>0.005465</td>\n",
       "      <td>0.2393</td>\n",
       "      <td>1</td>\n",
       "    </tr>\n",
       "    <tr>\n",
       "      <th>2</th>\n",
       "      <td>3</td>\n",
       "      <td>Praça João Mendes</td>\n",
       "      <td>0.1085</td>\n",
       "      <td>0.0422</td>\n",
       "      <td>0.1836</td>\n",
       "      <td>0.002296</td>\n",
       "      <td>0.3045</td>\n",
       "      <td>1</td>\n",
       "    </tr>\n",
       "    <tr>\n",
       "      <th>3</th>\n",
       "      <td>4</td>\n",
       "      <td>Ladeira da Memória</td>\n",
       "      <td>0.1526</td>\n",
       "      <td>0.0198</td>\n",
       "      <td>0.2232</td>\n",
       "      <td>0.003612</td>\n",
       "      <td>0.5103</td>\n",
       "      <td>3</td>\n",
       "    </tr>\n",
       "    <tr>\n",
       "      <th>4</th>\n",
       "      <td>5</td>\n",
       "      <td>República</td>\n",
       "      <td>0.0947</td>\n",
       "      <td>0.0304</td>\n",
       "      <td>0.8856</td>\n",
       "      <td>0.003604</td>\n",
       "      <td>0.4287</td>\n",
       "      <td>3</td>\n",
       "    </tr>\n",
       "  </tbody>\n",
       "</table>\n",
       "</div>"
      ],
      "text/plain": [
       "   Zona                 Nome  População  Escolares  Empregos  Área (ha)  \\\n",
       "0      1                  Sé     0.0207     0.1120    0.7111   0.002746   \n",
       "1      2    Parque Dom Pedro     0.0361     0.0252    0.5132   0.005465   \n",
       "2      3   Praça João Mendes     0.1085     0.0422    0.1836   0.002296   \n",
       "3      4  Ladeira da Memória     0.1526     0.0198    0.2232   0.003612   \n",
       "4      5           República     0.0947     0.0304    0.8856   0.003604   \n",
       "\n",
       "   Per Capita  cluster  \n",
       "0      0.2159        1  \n",
       "1      0.2393        1  \n",
       "2      0.3045        1  \n",
       "3      0.5103        3  \n",
       "4      0.4287        3  "
      ]
     },
     "execution_count": 26,
     "metadata": {},
     "output_type": "execute_result"
    }
   ],
   "source": [
    "# bom, o numero ótimo de clusters será dado pelo knee_point\n",
    "\n",
    "# Agora, vamos executar o k-means com o número ótimo de clusters\n",
    "# final_kmeans = KMeans(n_clusters=knee_point, n_init=10)\n",
    "final_kmeans = KMeans(n_clusters=4, n_init=4)\n",
    "final_kmeans.fit(X)\n",
    "\n",
    "# Obtenha os rótulos de cluster para cada instância de dados\n",
    "df['cluster'] = final_kmeans.labels_\n",
    "df.head()"
   ]
  },
  {
   "cell_type": "code",
   "execution_count": 27,
   "metadata": {},
   "outputs": [],
   "source": [
    "# salva num arquivo csv\n",
    "df.to_csv('od_2017_norm_kmeans4.csv', index=False)\n"
   ]
  }
 ],
 "metadata": {
  "kernelspec": {
   "display_name": ".venv",
   "language": "python",
   "name": "python3"
  },
  "language_info": {
   "codemirror_mode": {
    "name": "ipython",
    "version": 3
   },
   "file_extension": ".py",
   "mimetype": "text/x-python",
   "name": "python",
   "nbconvert_exporter": "python",
   "pygments_lexer": "ipython3",
   "version": "3.10.12"
  }
 },
 "nbformat": 4,
 "nbformat_minor": 2
}
