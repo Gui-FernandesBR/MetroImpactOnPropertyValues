{
 "cells": [
  {
   "cell_type": "code",
   "execution_count": null,
   "metadata": {},
   "outputs": [],
   "source": []
  },
  {
   "cell_type": "code",
   "execution_count": 1,
   "metadata": {},
   "outputs": [
    {
     "name": "stdout",
     "output_type": "stream",
     "text": [
      "Could not find zone '?' at year 1995, proceeding without it\n"
     ]
    }
   ],
   "source": [
    "import geopandas as gpd\n",
    "\n",
    "# ler o arquivo com os centorides das zonas OD\n",
    "centroids = gpd.read_file('centroides_zonas_od_sp.gpkg')\n",
    "centroids\n",
    "\n",
    "# definir lista de anos\n",
    "anos = list(range(1995, 2020))\n",
    "\n",
    "# Agora vamos iterar sobre os anos\n",
    "for ano in anos:\n",
    "    # para cada ano, vamos carregar o arquivo com as estações de metro construídas até aquele ano.\n",
    "    # O arquivo está em formato geopackage\n",
    "    estacoes = gpd.read_file(f'../datas_estacoes_metro/output_geopackages/eatacoes_metro_ate_{ano}.gpkg')\n",
    "\n",
    "    # para cada linha da coluna centroids[\"od_id\"], calcula a distancia até todas as estações listadas em estacoes. Vamos pegar as 3 estações mais próximas e tirar uma média dessa distancia\n",
    "    try:\n",
    "        centroids[f'distancia_metro_{ano}'] = centroids['od_id'].apply(lambda x: estacoes.distance(centroids.loc[x, 'geometry']).sort_values().head(3).mean())\n",
    "    except KeyError:\n",
    "        print(f\"Could not find zone '?' at year {ano}, proceeding without it\")\n",
    "\n",
    "    break"
   ]
  },
  {
   "cell_type": "code",
   "execution_count": 2,
   "metadata": {},
   "outputs": [
    {
     "data": {
      "text/plain": [
       "['eatacoes_metro_ate_1998.gpkg',\n",
       " 'eatacoes_metro_ate_2011.gpkg',\n",
       " 'eatacoes_metro_ate_2003.gpkg',\n",
       " 'eatacoes_metro_ate_2013.gpkg',\n",
       " 'eatacoes_metro_ate_2010.gpkg',\n",
       " 'eatacoes_metro_ate_2007.gpkg',\n",
       " 'eatacoes_metro_ate_2001.gpkg',\n",
       " 'eatacoes_metro_ate_1995.gpkg',\n",
       " 'eatacoes_metro_ate_1999.gpkg',\n",
       " 'eatacoes_metro_ate_2012.gpkg',\n",
       " 'eatacoes_metro_ate_2005.gpkg',\n",
       " 'eatacoes_metro_ate_2018.gpkg',\n",
       " 'eatacoes_metro_ate_2006.gpkg',\n",
       " 'eatacoes_metro_ate_2002.gpkg',\n",
       " 'eatacoes_metro_ate_2009.gpkg',\n",
       " 'eatacoes_metro_ate_2004.gpkg',\n",
       " 'eatacoes_metro_ate_2019.gpkg',\n",
       " 'eatacoes_metro_ate_2000.gpkg',\n",
       " 'eatacoes_metro_ate_2008.gpkg',\n",
       " 'eatacoes_metro_ate_2016.gpkg',\n",
       " 'eatacoes_metro_ate_1997.gpkg',\n",
       " 'eatacoes_metro_ate_2014.gpkg',\n",
       " 'eatacoes_metro_ate_2015.gpkg',\n",
       " 'eatacoes_metro_ate_2017.gpkg',\n",
       " 'eatacoes_metro_ate_1996.gpkg']"
      ]
     },
     "execution_count": 2,
     "metadata": {},
     "output_type": "execute_result"
    }
   ],
   "source": [
    "import os\n",
    "os.listdir(\"../datas_estacoes_metro/output_geopackages\")"
   ]
  },
  {
   "cell_type": "code",
   "execution_count": 7,
   "metadata": {},
   "outputs": [
    {
     "name": "stderr",
     "output_type": "stream",
     "text": [
      "/tmp/ipykernel_50719/805718481.py:19: UserWarning: Geometry is in a geographic CRS. Results from 'distance' are likely incorrect. Use 'GeoSeries.to_crs()' to re-project geometries to a projected CRS before this operation.\n",
      "\n",
      "  lambda row: estacoes.distance(row.geometry).nsmallest(10).mean(), axis=1)\n"
     ]
    },
    {
     "name": "stdout",
     "output_type": "stream",
     "text": [
      "Finished year 1995\n"
     ]
    },
    {
     "name": "stderr",
     "output_type": "stream",
     "text": [
      "/tmp/ipykernel_50719/805718481.py:19: UserWarning: Geometry is in a geographic CRS. Results from 'distance' are likely incorrect. Use 'GeoSeries.to_crs()' to re-project geometries to a projected CRS before this operation.\n",
      "\n",
      "  lambda row: estacoes.distance(row.geometry).nsmallest(10).mean(), axis=1)\n"
     ]
    },
    {
     "name": "stdout",
     "output_type": "stream",
     "text": [
      "Finished year 1996\n"
     ]
    },
    {
     "name": "stderr",
     "output_type": "stream",
     "text": [
      "/tmp/ipykernel_50719/805718481.py:19: UserWarning: Geometry is in a geographic CRS. Results from 'distance' are likely incorrect. Use 'GeoSeries.to_crs()' to re-project geometries to a projected CRS before this operation.\n",
      "\n",
      "  lambda row: estacoes.distance(row.geometry).nsmallest(10).mean(), axis=1)\n"
     ]
    },
    {
     "name": "stdout",
     "output_type": "stream",
     "text": [
      "Finished year 1997\n"
     ]
    },
    {
     "name": "stderr",
     "output_type": "stream",
     "text": [
      "/tmp/ipykernel_50719/805718481.py:19: UserWarning: Geometry is in a geographic CRS. Results from 'distance' are likely incorrect. Use 'GeoSeries.to_crs()' to re-project geometries to a projected CRS before this operation.\n",
      "\n",
      "  lambda row: estacoes.distance(row.geometry).nsmallest(10).mean(), axis=1)\n"
     ]
    },
    {
     "name": "stdout",
     "output_type": "stream",
     "text": [
      "Finished year 1998\n"
     ]
    },
    {
     "name": "stderr",
     "output_type": "stream",
     "text": [
      "/tmp/ipykernel_50719/805718481.py:19: UserWarning: Geometry is in a geographic CRS. Results from 'distance' are likely incorrect. Use 'GeoSeries.to_crs()' to re-project geometries to a projected CRS before this operation.\n",
      "\n",
      "  lambda row: estacoes.distance(row.geometry).nsmallest(10).mean(), axis=1)\n"
     ]
    },
    {
     "name": "stdout",
     "output_type": "stream",
     "text": [
      "Finished year 1999\n"
     ]
    },
    {
     "name": "stderr",
     "output_type": "stream",
     "text": [
      "/tmp/ipykernel_50719/805718481.py:19: UserWarning: Geometry is in a geographic CRS. Results from 'distance' are likely incorrect. Use 'GeoSeries.to_crs()' to re-project geometries to a projected CRS before this operation.\n",
      "\n",
      "  lambda row: estacoes.distance(row.geometry).nsmallest(10).mean(), axis=1)\n"
     ]
    },
    {
     "name": "stdout",
     "output_type": "stream",
     "text": [
      "Finished year 2000\n"
     ]
    },
    {
     "name": "stderr",
     "output_type": "stream",
     "text": [
      "/tmp/ipykernel_50719/805718481.py:19: UserWarning: Geometry is in a geographic CRS. Results from 'distance' are likely incorrect. Use 'GeoSeries.to_crs()' to re-project geometries to a projected CRS before this operation.\n",
      "\n",
      "  lambda row: estacoes.distance(row.geometry).nsmallest(10).mean(), axis=1)\n"
     ]
    },
    {
     "name": "stdout",
     "output_type": "stream",
     "text": [
      "Finished year 2001\n"
     ]
    },
    {
     "name": "stderr",
     "output_type": "stream",
     "text": [
      "/tmp/ipykernel_50719/805718481.py:19: UserWarning: Geometry is in a geographic CRS. Results from 'distance' are likely incorrect. Use 'GeoSeries.to_crs()' to re-project geometries to a projected CRS before this operation.\n",
      "\n",
      "  lambda row: estacoes.distance(row.geometry).nsmallest(10).mean(), axis=1)\n"
     ]
    },
    {
     "name": "stdout",
     "output_type": "stream",
     "text": [
      "Finished year 2002\n"
     ]
    },
    {
     "name": "stderr",
     "output_type": "stream",
     "text": [
      "/tmp/ipykernel_50719/805718481.py:19: UserWarning: Geometry is in a geographic CRS. Results from 'distance' are likely incorrect. Use 'GeoSeries.to_crs()' to re-project geometries to a projected CRS before this operation.\n",
      "\n",
      "  lambda row: estacoes.distance(row.geometry).nsmallest(10).mean(), axis=1)\n"
     ]
    },
    {
     "name": "stdout",
     "output_type": "stream",
     "text": [
      "Finished year 2003\n"
     ]
    },
    {
     "name": "stderr",
     "output_type": "stream",
     "text": [
      "/tmp/ipykernel_50719/805718481.py:19: UserWarning: Geometry is in a geographic CRS. Results from 'distance' are likely incorrect. Use 'GeoSeries.to_crs()' to re-project geometries to a projected CRS before this operation.\n",
      "\n",
      "  lambda row: estacoes.distance(row.geometry).nsmallest(10).mean(), axis=1)\n"
     ]
    },
    {
     "name": "stdout",
     "output_type": "stream",
     "text": [
      "Finished year 2004\n"
     ]
    },
    {
     "name": "stderr",
     "output_type": "stream",
     "text": [
      "/tmp/ipykernel_50719/805718481.py:19: UserWarning: Geometry is in a geographic CRS. Results from 'distance' are likely incorrect. Use 'GeoSeries.to_crs()' to re-project geometries to a projected CRS before this operation.\n",
      "\n",
      "  lambda row: estacoes.distance(row.geometry).nsmallest(10).mean(), axis=1)\n"
     ]
    },
    {
     "name": "stdout",
     "output_type": "stream",
     "text": [
      "Finished year 2005\n"
     ]
    },
    {
     "name": "stderr",
     "output_type": "stream",
     "text": [
      "/tmp/ipykernel_50719/805718481.py:19: UserWarning: Geometry is in a geographic CRS. Results from 'distance' are likely incorrect. Use 'GeoSeries.to_crs()' to re-project geometries to a projected CRS before this operation.\n",
      "\n",
      "  lambda row: estacoes.distance(row.geometry).nsmallest(10).mean(), axis=1)\n"
     ]
    },
    {
     "name": "stdout",
     "output_type": "stream",
     "text": [
      "Finished year 2006\n"
     ]
    },
    {
     "name": "stderr",
     "output_type": "stream",
     "text": [
      "/tmp/ipykernel_50719/805718481.py:19: UserWarning: Geometry is in a geographic CRS. Results from 'distance' are likely incorrect. Use 'GeoSeries.to_crs()' to re-project geometries to a projected CRS before this operation.\n",
      "\n",
      "  lambda row: estacoes.distance(row.geometry).nsmallest(10).mean(), axis=1)\n"
     ]
    },
    {
     "name": "stdout",
     "output_type": "stream",
     "text": [
      "Finished year 2007\n"
     ]
    },
    {
     "name": "stderr",
     "output_type": "stream",
     "text": [
      "/tmp/ipykernel_50719/805718481.py:19: UserWarning: Geometry is in a geographic CRS. Results from 'distance' are likely incorrect. Use 'GeoSeries.to_crs()' to re-project geometries to a projected CRS before this operation.\n",
      "\n",
      "  lambda row: estacoes.distance(row.geometry).nsmallest(10).mean(), axis=1)\n"
     ]
    },
    {
     "name": "stdout",
     "output_type": "stream",
     "text": [
      "Finished year 2008\n"
     ]
    },
    {
     "name": "stderr",
     "output_type": "stream",
     "text": [
      "/tmp/ipykernel_50719/805718481.py:19: UserWarning: Geometry is in a geographic CRS. Results from 'distance' are likely incorrect. Use 'GeoSeries.to_crs()' to re-project geometries to a projected CRS before this operation.\n",
      "\n",
      "  lambda row: estacoes.distance(row.geometry).nsmallest(10).mean(), axis=1)\n"
     ]
    },
    {
     "name": "stdout",
     "output_type": "stream",
     "text": [
      "Finished year 2009\n"
     ]
    },
    {
     "name": "stderr",
     "output_type": "stream",
     "text": [
      "/tmp/ipykernel_50719/805718481.py:19: UserWarning: Geometry is in a geographic CRS. Results from 'distance' are likely incorrect. Use 'GeoSeries.to_crs()' to re-project geometries to a projected CRS before this operation.\n",
      "\n",
      "  lambda row: estacoes.distance(row.geometry).nsmallest(10).mean(), axis=1)\n"
     ]
    },
    {
     "name": "stdout",
     "output_type": "stream",
     "text": [
      "Finished year 2010\n"
     ]
    },
    {
     "name": "stderr",
     "output_type": "stream",
     "text": [
      "/tmp/ipykernel_50719/805718481.py:19: UserWarning: Geometry is in a geographic CRS. Results from 'distance' are likely incorrect. Use 'GeoSeries.to_crs()' to re-project geometries to a projected CRS before this operation.\n",
      "\n",
      "  lambda row: estacoes.distance(row.geometry).nsmallest(10).mean(), axis=1)\n"
     ]
    },
    {
     "name": "stdout",
     "output_type": "stream",
     "text": [
      "Finished year 2011\n"
     ]
    },
    {
     "name": "stderr",
     "output_type": "stream",
     "text": [
      "/tmp/ipykernel_50719/805718481.py:19: UserWarning: Geometry is in a geographic CRS. Results from 'distance' are likely incorrect. Use 'GeoSeries.to_crs()' to re-project geometries to a projected CRS before this operation.\n",
      "\n",
      "  lambda row: estacoes.distance(row.geometry).nsmallest(10).mean(), axis=1)\n"
     ]
    },
    {
     "name": "stdout",
     "output_type": "stream",
     "text": [
      "Finished year 2012\n"
     ]
    },
    {
     "name": "stderr",
     "output_type": "stream",
     "text": [
      "/tmp/ipykernel_50719/805718481.py:19: UserWarning: Geometry is in a geographic CRS. Results from 'distance' are likely incorrect. Use 'GeoSeries.to_crs()' to re-project geometries to a projected CRS before this operation.\n",
      "\n",
      "  lambda row: estacoes.distance(row.geometry).nsmallest(10).mean(), axis=1)\n"
     ]
    },
    {
     "name": "stdout",
     "output_type": "stream",
     "text": [
      "Finished year 2013\n"
     ]
    },
    {
     "name": "stderr",
     "output_type": "stream",
     "text": [
      "/tmp/ipykernel_50719/805718481.py:19: UserWarning: Geometry is in a geographic CRS. Results from 'distance' are likely incorrect. Use 'GeoSeries.to_crs()' to re-project geometries to a projected CRS before this operation.\n",
      "\n",
      "  lambda row: estacoes.distance(row.geometry).nsmallest(10).mean(), axis=1)\n"
     ]
    },
    {
     "name": "stdout",
     "output_type": "stream",
     "text": [
      "Finished year 2014\n"
     ]
    },
    {
     "name": "stderr",
     "output_type": "stream",
     "text": [
      "/tmp/ipykernel_50719/805718481.py:19: UserWarning: Geometry is in a geographic CRS. Results from 'distance' are likely incorrect. Use 'GeoSeries.to_crs()' to re-project geometries to a projected CRS before this operation.\n",
      "\n",
      "  lambda row: estacoes.distance(row.geometry).nsmallest(10).mean(), axis=1)\n"
     ]
    },
    {
     "name": "stdout",
     "output_type": "stream",
     "text": [
      "Finished year 2015\n"
     ]
    },
    {
     "name": "stderr",
     "output_type": "stream",
     "text": [
      "/tmp/ipykernel_50719/805718481.py:19: UserWarning: Geometry is in a geographic CRS. Results from 'distance' are likely incorrect. Use 'GeoSeries.to_crs()' to re-project geometries to a projected CRS before this operation.\n",
      "\n",
      "  lambda row: estacoes.distance(row.geometry).nsmallest(10).mean(), axis=1)\n"
     ]
    },
    {
     "name": "stdout",
     "output_type": "stream",
     "text": [
      "Finished year 2016\n"
     ]
    },
    {
     "name": "stderr",
     "output_type": "stream",
     "text": [
      "/tmp/ipykernel_50719/805718481.py:19: UserWarning: Geometry is in a geographic CRS. Results from 'distance' are likely incorrect. Use 'GeoSeries.to_crs()' to re-project geometries to a projected CRS before this operation.\n",
      "\n",
      "  lambda row: estacoes.distance(row.geometry).nsmallest(10).mean(), axis=1)\n"
     ]
    },
    {
     "name": "stdout",
     "output_type": "stream",
     "text": [
      "Finished year 2017\n"
     ]
    },
    {
     "name": "stderr",
     "output_type": "stream",
     "text": [
      "/tmp/ipykernel_50719/805718481.py:19: UserWarning: Geometry is in a geographic CRS. Results from 'distance' are likely incorrect. Use 'GeoSeries.to_crs()' to re-project geometries to a projected CRS before this operation.\n",
      "\n",
      "  lambda row: estacoes.distance(row.geometry).nsmallest(10).mean(), axis=1)\n"
     ]
    },
    {
     "name": "stdout",
     "output_type": "stream",
     "text": [
      "Finished year 2018\n"
     ]
    },
    {
     "name": "stderr",
     "output_type": "stream",
     "text": [
      "/tmp/ipykernel_50719/805718481.py:19: UserWarning: Geometry is in a geographic CRS. Results from 'distance' are likely incorrect. Use 'GeoSeries.to_crs()' to re-project geometries to a projected CRS before this operation.\n",
      "\n",
      "  lambda row: estacoes.distance(row.geometry).nsmallest(10).mean(), axis=1)\n"
     ]
    },
    {
     "name": "stdout",
     "output_type": "stream",
     "text": [
      "Finished year 2019\n"
     ]
    }
   ],
   "source": [
    "import geopandas as gpd\n",
    "\n",
    "# Read the centroids GeoDataFrame\n",
    "centroids = gpd.read_file('centroides_zonas_od_sp.gpkg')\n",
    "\n",
    "# It is important that 'od_id' is set as index if it's not already\n",
    "centroids.set_index('od_id', inplace=True)\n",
    "\n",
    "# Define list of years\n",
    "anos = list(range(1995, 2020))\n",
    "\n",
    "# Iterate over the years\n",
    "for ano in anos:\n",
    "    # Load the stations for the given year\n",
    "    estacoes = gpd.read_file(f'../datas_estacoes_metro/output_geopackages/eatacoes_metro_ate_{ano}.gpkg')\n",
    "\n",
    "    # Calculate the mean distance to the 3 nearest stations for each centroid\n",
    "    centroids[f'd_m_{ano}'] = centroids.apply(\n",
    "        lambda row: estacoes.distance(row.geometry).nsmallest(10).mean(), axis=1)\n",
    "    \n",
    "    # Breaking after the first iteration for testing; remove this to process all years\n",
    "    print(f\"Finished year {ano}\")\n"
   ]
  },
  {
   "cell_type": "code",
   "execution_count": 8,
   "metadata": {},
   "outputs": [
    {
     "data": {
      "text/html": [
       "<div>\n",
       "<style scoped>\n",
       "    .dataframe tbody tr th:only-of-type {\n",
       "        vertical-align: middle;\n",
       "    }\n",
       "\n",
       "    .dataframe tbody tr th {\n",
       "        vertical-align: top;\n",
       "    }\n",
       "\n",
       "    .dataframe thead th {\n",
       "        text-align: right;\n",
       "    }\n",
       "</style>\n",
       "<table border=\"1\" class=\"dataframe\">\n",
       "  <thead>\n",
       "    <tr style=\"text-align: right;\">\n",
       "      <th></th>\n",
       "      <th>od_nome</th>\n",
       "      <th>od_area</th>\n",
       "      <th>od_ano</th>\n",
       "      <th>od_municip</th>\n",
       "      <th>area</th>\n",
       "      <th>perimeter</th>\n",
       "      <th>geometry</th>\n",
       "      <th>d_m_1995</th>\n",
       "      <th>d_m_1996</th>\n",
       "      <th>d_m_1997</th>\n",
       "      <th>...</th>\n",
       "      <th>d_m_2010</th>\n",
       "      <th>d_m_2011</th>\n",
       "      <th>d_m_2012</th>\n",
       "      <th>d_m_2013</th>\n",
       "      <th>d_m_2014</th>\n",
       "      <th>d_m_2015</th>\n",
       "      <th>d_m_2016</th>\n",
       "      <th>d_m_2017</th>\n",
       "      <th>d_m_2018</th>\n",
       "      <th>d_m_2019</th>\n",
       "    </tr>\n",
       "    <tr>\n",
       "      <th>od_id</th>\n",
       "      <th></th>\n",
       "      <th></th>\n",
       "      <th></th>\n",
       "      <th></th>\n",
       "      <th></th>\n",
       "      <th></th>\n",
       "      <th></th>\n",
       "      <th></th>\n",
       "      <th></th>\n",
       "      <th></th>\n",
       "      <th></th>\n",
       "      <th></th>\n",
       "      <th></th>\n",
       "      <th></th>\n",
       "      <th></th>\n",
       "      <th></th>\n",
       "      <th></th>\n",
       "      <th></th>\n",
       "      <th></th>\n",
       "      <th></th>\n",
       "      <th></th>\n",
       "    </tr>\n",
       "  </thead>\n",
       "  <tbody>\n",
       "    <tr>\n",
       "      <th>1</th>\n",
       "      <td>Sé</td>\n",
       "      <td>57.10</td>\n",
       "      <td>2017</td>\n",
       "      <td>36</td>\n",
       "      <td>5.696648e+05</td>\n",
       "      <td>3712.920172</td>\n",
       "      <td>POINT (333209.60491 7394766.95743)</td>\n",
       "      <td>791.836068</td>\n",
       "      <td>791.836068</td>\n",
       "      <td>791.836068</td>\n",
       "      <td>...</td>\n",
       "      <td>791.836068</td>\n",
       "      <td>791.836068</td>\n",
       "      <td>791.836068</td>\n",
       "      <td>791.836068</td>\n",
       "      <td>791.836068</td>\n",
       "      <td>791.836068</td>\n",
       "      <td>791.836068</td>\n",
       "      <td>791.836068</td>\n",
       "      <td>791.836068</td>\n",
       "      <td>791.836068</td>\n",
       "    </tr>\n",
       "    <tr>\n",
       "      <th>5</th>\n",
       "      <td>República</td>\n",
       "      <td>74.95</td>\n",
       "      <td>2017</td>\n",
       "      <td>36</td>\n",
       "      <td>7.477521e+05</td>\n",
       "      <td>3664.370907</td>\n",
       "      <td>POINT (332282.64718 7395248.73160)</td>\n",
       "      <td>878.380679</td>\n",
       "      <td>878.380679</td>\n",
       "      <td>878.380679</td>\n",
       "      <td>...</td>\n",
       "      <td>878.380679</td>\n",
       "      <td>878.380679</td>\n",
       "      <td>878.380679</td>\n",
       "      <td>878.380679</td>\n",
       "      <td>878.380679</td>\n",
       "      <td>878.380679</td>\n",
       "      <td>878.380679</td>\n",
       "      <td>878.380679</td>\n",
       "      <td>878.380679</td>\n",
       "      <td>845.990935</td>\n",
       "    </tr>\n",
       "    <tr>\n",
       "      <th>6</th>\n",
       "      <td>Santa Ifigênia</td>\n",
       "      <td>82.93</td>\n",
       "      <td>2017</td>\n",
       "      <td>36</td>\n",
       "      <td>8.273147e+05</td>\n",
       "      <td>3666.434486</td>\n",
       "      <td>POINT (332718.31762 7395844.06961)</td>\n",
       "      <td>931.580154</td>\n",
       "      <td>931.580154</td>\n",
       "      <td>931.580154</td>\n",
       "      <td>...</td>\n",
       "      <td>931.580154</td>\n",
       "      <td>931.580154</td>\n",
       "      <td>931.580154</td>\n",
       "      <td>931.580154</td>\n",
       "      <td>931.580154</td>\n",
       "      <td>931.580154</td>\n",
       "      <td>931.580154</td>\n",
       "      <td>931.580154</td>\n",
       "      <td>931.580154</td>\n",
       "      <td>931.580154</td>\n",
       "    </tr>\n",
       "    <tr>\n",
       "      <th>4</th>\n",
       "      <td>Ladeira da Memória</td>\n",
       "      <td>75.11</td>\n",
       "      <td>2017</td>\n",
       "      <td>36</td>\n",
       "      <td>7.493191e+05</td>\n",
       "      <td>3491.832614</td>\n",
       "      <td>POINT (332410.43437 7394460.89307)</td>\n",
       "      <td>1016.424467</td>\n",
       "      <td>1016.424467</td>\n",
       "      <td>1016.424467</td>\n",
       "      <td>...</td>\n",
       "      <td>1016.424467</td>\n",
       "      <td>1016.424467</td>\n",
       "      <td>1016.424467</td>\n",
       "      <td>1016.424467</td>\n",
       "      <td>1016.424467</td>\n",
       "      <td>1016.424467</td>\n",
       "      <td>1016.424467</td>\n",
       "      <td>1016.424467</td>\n",
       "      <td>1016.424467</td>\n",
       "      <td>961.386980</td>\n",
       "    </tr>\n",
       "    <tr>\n",
       "      <th>2</th>\n",
       "      <td>Parque Dom Pedro</td>\n",
       "      <td>113.64</td>\n",
       "      <td>2017</td>\n",
       "      <td>36</td>\n",
       "      <td>1.133693e+06</td>\n",
       "      <td>5714.287629</td>\n",
       "      <td>POINT (333628.63685 7395293.31160)</td>\n",
       "      <td>975.757001</td>\n",
       "      <td>975.757001</td>\n",
       "      <td>975.757001</td>\n",
       "      <td>...</td>\n",
       "      <td>975.757001</td>\n",
       "      <td>975.757001</td>\n",
       "      <td>975.757001</td>\n",
       "      <td>975.757001</td>\n",
       "      <td>975.757001</td>\n",
       "      <td>975.757001</td>\n",
       "      <td>975.757001</td>\n",
       "      <td>975.757001</td>\n",
       "      <td>975.757001</td>\n",
       "      <td>975.757001</td>\n",
       "    </tr>\n",
       "    <tr>\n",
       "      <th>...</th>\n",
       "      <td>...</td>\n",
       "      <td>...</td>\n",
       "      <td>...</td>\n",
       "      <td>...</td>\n",
       "      <td>...</td>\n",
       "      <td>...</td>\n",
       "      <td>...</td>\n",
       "      <td>...</td>\n",
       "      <td>...</td>\n",
       "      <td>...</td>\n",
       "      <td>...</td>\n",
       "      <td>...</td>\n",
       "      <td>...</td>\n",
       "      <td>...</td>\n",
       "      <td>...</td>\n",
       "      <td>...</td>\n",
       "      <td>...</td>\n",
       "      <td>...</td>\n",
       "      <td>...</td>\n",
       "      <td>...</td>\n",
       "      <td>...</td>\n",
       "    </tr>\n",
       "    <tr>\n",
       "      <th>117</th>\n",
       "      <td>Parque Morro Doce</td>\n",
       "      <td>1527.16</td>\n",
       "      <td>2017</td>\n",
       "      <td>36</td>\n",
       "      <td>1.508084e+07</td>\n",
       "      <td>21756.844447</td>\n",
       "      <td>POINT (315947.29984 7406892.59276)</td>\n",
       "      <td>19179.052156</td>\n",
       "      <td>19179.052156</td>\n",
       "      <td>19179.052156</td>\n",
       "      <td>...</td>\n",
       "      <td>18586.765953</td>\n",
       "      <td>18371.941506</td>\n",
       "      <td>18003.915717</td>\n",
       "      <td>18003.915717</td>\n",
       "      <td>18003.915717</td>\n",
       "      <td>17936.884151</td>\n",
       "      <td>17936.884151</td>\n",
       "      <td>17936.884151</td>\n",
       "      <td>17936.884151</td>\n",
       "      <td>17840.029796</td>\n",
       "    </tr>\n",
       "    <tr>\n",
       "      <th>118</th>\n",
       "      <td>Anhanguera</td>\n",
       "      <td>1812.79</td>\n",
       "      <td>2017</td>\n",
       "      <td>36</td>\n",
       "      <td>1.804593e+07</td>\n",
       "      <td>27915.716925</td>\n",
       "      <td>POINT (317529.97209 7408374.78658)</td>\n",
       "      <td>18752.053446</td>\n",
       "      <td>18752.053446</td>\n",
       "      <td>18752.053446</td>\n",
       "      <td>...</td>\n",
       "      <td>18223.411424</td>\n",
       "      <td>18131.295765</td>\n",
       "      <td>17960.287577</td>\n",
       "      <td>17960.287577</td>\n",
       "      <td>17960.287577</td>\n",
       "      <td>17960.287577</td>\n",
       "      <td>17960.287577</td>\n",
       "      <td>17960.287577</td>\n",
       "      <td>17960.287577</td>\n",
       "      <td>17960.287577</td>\n",
       "    </tr>\n",
       "    <tr>\n",
       "      <th>296</th>\n",
       "      <td>Bororé</td>\n",
       "      <td>5992.56</td>\n",
       "      <td>2017</td>\n",
       "      <td>36</td>\n",
       "      <td>5.972320e+07</td>\n",
       "      <td>39404.215191</td>\n",
       "      <td>POINT (330508.74551 7365996.08098)</td>\n",
       "      <td>22192.495176</td>\n",
       "      <td>22192.495176</td>\n",
       "      <td>22192.495176</td>\n",
       "      <td>...</td>\n",
       "      <td>19414.594366</td>\n",
       "      <td>19414.594366</td>\n",
       "      <td>19414.594366</td>\n",
       "      <td>19414.594366</td>\n",
       "      <td>19414.594366</td>\n",
       "      <td>19102.881121</td>\n",
       "      <td>19102.881121</td>\n",
       "      <td>19102.881121</td>\n",
       "      <td>18871.347473</td>\n",
       "      <td>18871.347473</td>\n",
       "    </tr>\n",
       "    <tr>\n",
       "      <th>298</th>\n",
       "      <td>Parelheiros</td>\n",
       "      <td>11667.08</td>\n",
       "      <td>2017</td>\n",
       "      <td>36</td>\n",
       "      <td>1.162168e+08</td>\n",
       "      <td>65807.603011</td>\n",
       "      <td>POINT (326540.78014 7361756.14763)</td>\n",
       "      <td>27058.485950</td>\n",
       "      <td>27058.485950</td>\n",
       "      <td>27058.485950</td>\n",
       "      <td>...</td>\n",
       "      <td>23097.452823</td>\n",
       "      <td>23097.452823</td>\n",
       "      <td>23097.452823</td>\n",
       "      <td>23097.452823</td>\n",
       "      <td>23097.452823</td>\n",
       "      <td>22670.640361</td>\n",
       "      <td>22670.640361</td>\n",
       "      <td>22670.640361</td>\n",
       "      <td>22356.001581</td>\n",
       "      <td>22356.001581</td>\n",
       "    </tr>\n",
       "    <tr>\n",
       "      <th>299</th>\n",
       "      <td>Marsilac</td>\n",
       "      <td>20795.96</td>\n",
       "      <td>2017</td>\n",
       "      <td>36</td>\n",
       "      <td>2.065801e+08</td>\n",
       "      <td>85136.237247</td>\n",
       "      <td>POINT (326174.96588 7351918.49519)</td>\n",
       "      <td>36758.906157</td>\n",
       "      <td>36758.906157</td>\n",
       "      <td>36758.906157</td>\n",
       "      <td>...</td>\n",
       "      <td>32762.826694</td>\n",
       "      <td>32762.826694</td>\n",
       "      <td>32762.826694</td>\n",
       "      <td>32762.826694</td>\n",
       "      <td>32762.826694</td>\n",
       "      <td>32349.981352</td>\n",
       "      <td>32349.981352</td>\n",
       "      <td>32349.981352</td>\n",
       "      <td>32066.170070</td>\n",
       "      <td>32066.170070</td>\n",
       "    </tr>\n",
       "  </tbody>\n",
       "</table>\n",
       "<p>343 rows × 32 columns</p>\n",
       "</div>"
      ],
      "text/plain": [
       "                  od_nome   od_area od_ano od_municip          area  \\\n",
       "od_id                                                                 \n",
       "1                      Sé     57.10   2017         36  5.696648e+05   \n",
       "5               República     74.95   2017         36  7.477521e+05   \n",
       "6          Santa Ifigênia     82.93   2017         36  8.273147e+05   \n",
       "4      Ladeira da Memória     75.11   2017         36  7.493191e+05   \n",
       "2        Parque Dom Pedro    113.64   2017         36  1.133693e+06   \n",
       "...                   ...       ...    ...        ...           ...   \n",
       "117     Parque Morro Doce   1527.16   2017         36  1.508084e+07   \n",
       "118            Anhanguera   1812.79   2017         36  1.804593e+07   \n",
       "296                Bororé   5992.56   2017         36  5.972320e+07   \n",
       "298           Parelheiros  11667.08   2017         36  1.162168e+08   \n",
       "299              Marsilac  20795.96   2017         36  2.065801e+08   \n",
       "\n",
       "          perimeter                            geometry      d_m_1995  \\\n",
       "od_id                                                                   \n",
       "1       3712.920172  POINT (333209.60491 7394766.95743)    791.836068   \n",
       "5       3664.370907  POINT (332282.64718 7395248.73160)    878.380679   \n",
       "6       3666.434486  POINT (332718.31762 7395844.06961)    931.580154   \n",
       "4       3491.832614  POINT (332410.43437 7394460.89307)   1016.424467   \n",
       "2       5714.287629  POINT (333628.63685 7395293.31160)    975.757001   \n",
       "...             ...                                 ...           ...   \n",
       "117    21756.844447  POINT (315947.29984 7406892.59276)  19179.052156   \n",
       "118    27915.716925  POINT (317529.97209 7408374.78658)  18752.053446   \n",
       "296    39404.215191  POINT (330508.74551 7365996.08098)  22192.495176   \n",
       "298    65807.603011  POINT (326540.78014 7361756.14763)  27058.485950   \n",
       "299    85136.237247  POINT (326174.96588 7351918.49519)  36758.906157   \n",
       "\n",
       "           d_m_1996      d_m_1997  ...      d_m_2010      d_m_2011  \\\n",
       "od_id                              ...                               \n",
       "1        791.836068    791.836068  ...    791.836068    791.836068   \n",
       "5        878.380679    878.380679  ...    878.380679    878.380679   \n",
       "6        931.580154    931.580154  ...    931.580154    931.580154   \n",
       "4       1016.424467   1016.424467  ...   1016.424467   1016.424467   \n",
       "2        975.757001    975.757001  ...    975.757001    975.757001   \n",
       "...             ...           ...  ...           ...           ...   \n",
       "117    19179.052156  19179.052156  ...  18586.765953  18371.941506   \n",
       "118    18752.053446  18752.053446  ...  18223.411424  18131.295765   \n",
       "296    22192.495176  22192.495176  ...  19414.594366  19414.594366   \n",
       "298    27058.485950  27058.485950  ...  23097.452823  23097.452823   \n",
       "299    36758.906157  36758.906157  ...  32762.826694  32762.826694   \n",
       "\n",
       "           d_m_2012      d_m_2013      d_m_2014      d_m_2015      d_m_2016  \\\n",
       "od_id                                                                         \n",
       "1        791.836068    791.836068    791.836068    791.836068    791.836068   \n",
       "5        878.380679    878.380679    878.380679    878.380679    878.380679   \n",
       "6        931.580154    931.580154    931.580154    931.580154    931.580154   \n",
       "4       1016.424467   1016.424467   1016.424467   1016.424467   1016.424467   \n",
       "2        975.757001    975.757001    975.757001    975.757001    975.757001   \n",
       "...             ...           ...           ...           ...           ...   \n",
       "117    18003.915717  18003.915717  18003.915717  17936.884151  17936.884151   \n",
       "118    17960.287577  17960.287577  17960.287577  17960.287577  17960.287577   \n",
       "296    19414.594366  19414.594366  19414.594366  19102.881121  19102.881121   \n",
       "298    23097.452823  23097.452823  23097.452823  22670.640361  22670.640361   \n",
       "299    32762.826694  32762.826694  32762.826694  32349.981352  32349.981352   \n",
       "\n",
       "           d_m_2017      d_m_2018      d_m_2019  \n",
       "od_id                                            \n",
       "1        791.836068    791.836068    791.836068  \n",
       "5        878.380679    878.380679    845.990935  \n",
       "6        931.580154    931.580154    931.580154  \n",
       "4       1016.424467   1016.424467    961.386980  \n",
       "2        975.757001    975.757001    975.757001  \n",
       "...             ...           ...           ...  \n",
       "117    17936.884151  17936.884151  17840.029796  \n",
       "118    17960.287577  17960.287577  17960.287577  \n",
       "296    19102.881121  18871.347473  18871.347473  \n",
       "298    22670.640361  22356.001581  22356.001581  \n",
       "299    32349.981352  32066.170070  32066.170070  \n",
       "\n",
       "[343 rows x 32 columns]"
      ]
     },
     "execution_count": 8,
     "metadata": {},
     "output_type": "execute_result"
    }
   ],
   "source": [
    "centroids.sort_values('d_m_2019')"
   ]
  },
  {
   "cell_type": "code",
   "execution_count": 9,
   "metadata": {},
   "outputs": [],
   "source": [
    "# save to geopackage and later as csv file\n",
    "centroids.to_file('distancias_metro.gpkg', driver='GPKG')\n",
    "centroids.to_csv('distancias_metro.csv')"
   ]
  },
  {
   "cell_type": "code",
   "execution_count": 10,
   "metadata": {},
   "outputs": [
    {
     "data": {
      "text/html": [
       "<div>\n",
       "<style scoped>\n",
       "    .dataframe tbody tr th:only-of-type {\n",
       "        vertical-align: middle;\n",
       "    }\n",
       "\n",
       "    .dataframe tbody tr th {\n",
       "        vertical-align: top;\n",
       "    }\n",
       "\n",
       "    .dataframe thead th {\n",
       "        text-align: right;\n",
       "    }\n",
       "</style>\n",
       "<table border=\"1\" class=\"dataframe\">\n",
       "  <thead>\n",
       "    <tr style=\"text-align: right;\">\n",
       "      <th></th>\n",
       "      <th>primaryindex</th>\n",
       "      <th>emt_situac</th>\n",
       "      <th>emt_linha</th>\n",
       "      <th>emt_empres</th>\n",
       "      <th>emt_nome</th>\n",
       "      <th>data_inaug</th>\n",
       "      <th>geometry</th>\n",
       "    </tr>\n",
       "  </thead>\n",
       "  <tbody>\n",
       "    <tr>\n",
       "      <th>0</th>\n",
       "      <td>1</td>\n",
       "      <td>OPERANDO</td>\n",
       "      <td>AZUL</td>\n",
       "      <td>METRO</td>\n",
       "      <td>SÉ</td>\n",
       "      <td>1978-02-17</td>\n",
       "      <td>POINT (333310.17304 7394533.15033)</td>\n",
       "    </tr>\n",
       "    <tr>\n",
       "      <th>1</th>\n",
       "      <td>2</td>\n",
       "      <td>OPERANDO</td>\n",
       "      <td>VERMELHA</td>\n",
       "      <td>METRO</td>\n",
       "      <td>CORINTHIANS-ITAQUERA</td>\n",
       "      <td>1988-01-10</td>\n",
       "      <td>POINT (349839.37993 7395675.04694)</td>\n",
       "    </tr>\n",
       "    <tr>\n",
       "      <th>2</th>\n",
       "      <td>3</td>\n",
       "      <td>OPERANDO</td>\n",
       "      <td>VERMELHA</td>\n",
       "      <td>METRO</td>\n",
       "      <td>ARTUR ALVIM</td>\n",
       "      <td>1988-09-17</td>\n",
       "      <td>POINT (348457.59219 7395884.16471)</td>\n",
       "    </tr>\n",
       "    <tr>\n",
       "      <th>3</th>\n",
       "      <td>4</td>\n",
       "      <td>OPERANDO</td>\n",
       "      <td>VERMELHA</td>\n",
       "      <td>METRO</td>\n",
       "      <td>PATRIARCA</td>\n",
       "      <td>1988-09-17</td>\n",
       "      <td>POINT (346732.71182 7396874.61716)</td>\n",
       "    </tr>\n",
       "    <tr>\n",
       "      <th>4</th>\n",
       "      <td>5</td>\n",
       "      <td>OPERANDO</td>\n",
       "      <td>VERMELHA</td>\n",
       "      <td>METRO</td>\n",
       "      <td>GUILHERMINA-ESPERANÇA</td>\n",
       "      <td>1988-08-27</td>\n",
       "      <td>POINT (345181.96485 7397070.92108)</td>\n",
       "    </tr>\n",
       "    <tr>\n",
       "      <th>...</th>\n",
       "      <td>...</td>\n",
       "      <td>...</td>\n",
       "      <td>...</td>\n",
       "      <td>...</td>\n",
       "      <td>...</td>\n",
       "      <td>...</td>\n",
       "      <td>...</td>\n",
       "    </tr>\n",
       "    <tr>\n",
       "      <th>83</th>\n",
       "      <td>84</td>\n",
       "      <td>OPERANDO</td>\n",
       "      <td>AMARELA</td>\n",
       "      <td>VIAQUATRO</td>\n",
       "      <td>BUTANTÃ</td>\n",
       "      <td>2011-03-28</td>\n",
       "      <td>POINT (325665.63204 7392119.00196)</td>\n",
       "    </tr>\n",
       "    <tr>\n",
       "      <th>84</th>\n",
       "      <td>85</td>\n",
       "      <td>OPERANDO</td>\n",
       "      <td>AMARELA</td>\n",
       "      <td>VIAQUATRO</td>\n",
       "      <td>FRADIQUE COUTINHO</td>\n",
       "      <td>2014-11-15</td>\n",
       "      <td>POINT (328115.47426 7392793.08620)</td>\n",
       "    </tr>\n",
       "    <tr>\n",
       "      <th>85</th>\n",
       "      <td>86</td>\n",
       "      <td>OPERANDO</td>\n",
       "      <td>AMARELA</td>\n",
       "      <td>VIAQUATRO</td>\n",
       "      <td>HIGIENÓPOLIS-MACKENZIE</td>\n",
       "      <td>2018-01-23</td>\n",
       "      <td>POINT (331350.16965 7394737.61497)</td>\n",
       "    </tr>\n",
       "    <tr>\n",
       "      <th>86</th>\n",
       "      <td>87</td>\n",
       "      <td>OPERANDO</td>\n",
       "      <td>AMARELA</td>\n",
       "      <td>VIAQUATRO</td>\n",
       "      <td>OSCAR FREIRE</td>\n",
       "      <td>2018-04-04</td>\n",
       "      <td>POINT (329341.41445 7393433.26314)</td>\n",
       "    </tr>\n",
       "    <tr>\n",
       "      <th>87</th>\n",
       "      <td>88</td>\n",
       "      <td>OPERANDO</td>\n",
       "      <td>AMARELA</td>\n",
       "      <td>VIAQUATRO</td>\n",
       "      <td>SÃO PAULO-MORUMBI</td>\n",
       "      <td>2018-10-27</td>\n",
       "      <td>POINT (324093.40748 7390505.68657)</td>\n",
       "    </tr>\n",
       "  </tbody>\n",
       "</table>\n",
       "<p>88 rows × 7 columns</p>\n",
       "</div>"
      ],
      "text/plain": [
       "    primaryindex emt_situac emt_linha emt_empres                emt_nome  \\\n",
       "0              1   OPERANDO      AZUL      METRO                      SÉ   \n",
       "1              2   OPERANDO  VERMELHA      METRO    CORINTHIANS-ITAQUERA   \n",
       "2              3   OPERANDO  VERMELHA      METRO             ARTUR ALVIM   \n",
       "3              4   OPERANDO  VERMELHA      METRO               PATRIARCA   \n",
       "4              5   OPERANDO  VERMELHA      METRO   GUILHERMINA-ESPERANÇA   \n",
       "..           ...        ...       ...        ...                     ...   \n",
       "83            84   OPERANDO   AMARELA  VIAQUATRO                 BUTANTÃ   \n",
       "84            85   OPERANDO   AMARELA  VIAQUATRO       FRADIQUE COUTINHO   \n",
       "85            86   OPERANDO   AMARELA  VIAQUATRO  HIGIENÓPOLIS-MACKENZIE   \n",
       "86            87   OPERANDO   AMARELA  VIAQUATRO            OSCAR FREIRE   \n",
       "87            88   OPERANDO   AMARELA  VIAQUATRO       SÃO PAULO-MORUMBI   \n",
       "\n",
       "   data_inaug                            geometry  \n",
       "0  1978-02-17  POINT (333310.17304 7394533.15033)  \n",
       "1  1988-01-10  POINT (349839.37993 7395675.04694)  \n",
       "2  1988-09-17  POINT (348457.59219 7395884.16471)  \n",
       "3  1988-09-17  POINT (346732.71182 7396874.61716)  \n",
       "4  1988-08-27  POINT (345181.96485 7397070.92108)  \n",
       "..        ...                                 ...  \n",
       "83 2011-03-28  POINT (325665.63204 7392119.00196)  \n",
       "84 2014-11-15  POINT (328115.47426 7392793.08620)  \n",
       "85 2018-01-23  POINT (331350.16965 7394737.61497)  \n",
       "86 2018-04-04  POINT (329341.41445 7393433.26314)  \n",
       "87 2018-10-27  POINT (324093.40748 7390505.68657)  \n",
       "\n",
       "[88 rows x 7 columns]"
      ]
     },
     "execution_count": 10,
     "metadata": {},
     "output_type": "execute_result"
    }
   ],
   "source": [
    "estacoes"
   ]
  },
  {
   "cell_type": "markdown",
   "metadata": {},
   "source": []
  }
 ],
 "metadata": {
  "kernelspec": {
   "display_name": ".venv",
   "language": "python",
   "name": "python3"
  },
  "language_info": {
   "codemirror_mode": {
    "name": "ipython",
    "version": 3
   },
   "file_extension": ".py",
   "mimetype": "text/x-python",
   "name": "python",
   "nbconvert_exporter": "python",
   "pygments_lexer": "ipython3",
   "version": "3.10.12"
  }
 },
 "nbformat": 4,
 "nbformat_minor": 2
}
